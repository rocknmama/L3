{
 "cells": [
  {
   "cell_type": "markdown",
   "metadata": {},
   "source": [
    "#Sonja's run of the data through models\n",
    "\n",
    "#1. unsupervised learning - clusters using K means\n",
    "\n"
   ]
  },
  {
   "cell_type": "code",
   "execution_count": 1,
   "metadata": {},
   "outputs": [],
   "source": [
    "# importing initial libaries \n",
    "\n",
    "import pandas as pd\n",
    "import numpy as np\n",
    "import matplotlib.pyplot as plt\n",
    "import sklearn\n",
    "from sklearn.cluster import KMeans"
   ]
  },
  {
   "cell_type": "code",
   "execution_count": 2,
   "metadata": {},
   "outputs": [],
   "source": [
    "#storing source data to keep synced with any changes\n",
    "datafile = \"./1_numeric_outliers_removed_transformed.csv\""
   ]
  },
  {
   "cell_type": "code",
   "execution_count": 3,
   "metadata": {},
   "outputs": [
    {
     "data": {
      "text/html": [
       "<div>\n",
       "<style scoped>\n",
       "    .dataframe tbody tr th:only-of-type {\n",
       "        vertical-align: middle;\n",
       "    }\n",
       "\n",
       "    .dataframe tbody tr th {\n",
       "        vertical-align: top;\n",
       "    }\n",
       "\n",
       "    .dataframe thead th {\n",
       "        text-align: right;\n",
       "    }\n",
       "</style>\n",
       "<table border=\"1\" class=\"dataframe\">\n",
       "  <thead>\n",
       "    <tr style=\"text-align: right;\">\n",
       "      <th></th>\n",
       "      <th>id</th>\n",
       "      <th>num__accommodates</th>\n",
       "      <th>num__bedrooms</th>\n",
       "      <th>num__beds</th>\n",
       "      <th>num__price</th>\n",
       "      <th>num__availability_30</th>\n",
       "      <th>num__availability_60</th>\n",
       "      <th>num__availability_90</th>\n",
       "      <th>num__availability_365</th>\n",
       "      <th>num__number_of_reviews</th>\n",
       "      <th>...</th>\n",
       "      <th>bool__host_identity_verified_t</th>\n",
       "      <th>bool__has_availability_t</th>\n",
       "      <th>bool__instant_bookable_t</th>\n",
       "      <th>bool__prop_type_reduced_Entire condo</th>\n",
       "      <th>bool__prop_type_reduced_Entire guest suite</th>\n",
       "      <th>bool__prop_type_reduced_Entire guesthouse</th>\n",
       "      <th>bool__prop_type_reduced_Entire home</th>\n",
       "      <th>bool__prop_type_reduced_Entire rental unit</th>\n",
       "      <th>bool__prop_type_reduced_Entire townhouse</th>\n",
       "      <th>bool__prop_type_reduced_Other</th>\n",
       "    </tr>\n",
       "  </thead>\n",
       "  <tbody>\n",
       "    <tr>\n",
       "      <th>0</th>\n",
       "      <td>360</td>\n",
       "      <td>-0.562715</td>\n",
       "      <td>0.152657</td>\n",
       "      <td>-0.192967</td>\n",
       "      <td>-0.931810</td>\n",
       "      <td>-0.551344</td>\n",
       "      <td>0.120505</td>\n",
       "      <td>0.449145</td>\n",
       "      <td>-0.210263</td>\n",
       "      <td>1.146599</td>\n",
       "      <td>...</td>\n",
       "      <td>1.0</td>\n",
       "      <td>1.0</td>\n",
       "      <td>0.0</td>\n",
       "      <td>0.0</td>\n",
       "      <td>0.0</td>\n",
       "      <td>1.0</td>\n",
       "      <td>0.0</td>\n",
       "      <td>0.0</td>\n",
       "      <td>0.0</td>\n",
       "      <td>0.0</td>\n",
       "    </tr>\n",
       "    <tr>\n",
       "      <th>1</th>\n",
       "      <td>364</td>\n",
       "      <td>-0.562715</td>\n",
       "      <td>-0.885936</td>\n",
       "      <td>-0.935868</td>\n",
       "      <td>0.207151</td>\n",
       "      <td>1.504547</td>\n",
       "      <td>1.454513</td>\n",
       "      <td>1.306215</td>\n",
       "      <td>1.467521</td>\n",
       "      <td>0.229000</td>\n",
       "      <td>...</td>\n",
       "      <td>1.0</td>\n",
       "      <td>1.0</td>\n",
       "      <td>0.0</td>\n",
       "      <td>0.0</td>\n",
       "      <td>0.0</td>\n",
       "      <td>0.0</td>\n",
       "      <td>0.0</td>\n",
       "      <td>0.0</td>\n",
       "      <td>0.0</td>\n",
       "      <td>1.0</td>\n",
       "    </tr>\n",
       "    <tr>\n",
       "      <th>2</th>\n",
       "      <td>31503</td>\n",
       "      <td>-0.997213</td>\n",
       "      <td>-0.885936</td>\n",
       "      <td>-0.935868</td>\n",
       "      <td>-0.765445</td>\n",
       "      <td>0.314295</td>\n",
       "      <td>0.890125</td>\n",
       "      <td>0.943609</td>\n",
       "      <td>1.380054</td>\n",
       "      <td>0.947121</td>\n",
       "      <td>...</td>\n",
       "      <td>1.0</td>\n",
       "      <td>1.0</td>\n",
       "      <td>0.0</td>\n",
       "      <td>0.0</td>\n",
       "      <td>1.0</td>\n",
       "      <td>0.0</td>\n",
       "      <td>0.0</td>\n",
       "      <td>0.0</td>\n",
       "      <td>0.0</td>\n",
       "      <td>0.0</td>\n",
       "    </tr>\n",
       "    <tr>\n",
       "      <th>3</th>\n",
       "      <td>39405</td>\n",
       "      <td>-0.997213</td>\n",
       "      <td>-0.885936</td>\n",
       "      <td>-0.935868</td>\n",
       "      <td>-0.343133</td>\n",
       "      <td>-0.334934</td>\n",
       "      <td>-0.905654</td>\n",
       "      <td>-0.374960</td>\n",
       "      <td>-0.472665</td>\n",
       "      <td>6.013866</td>\n",
       "      <td>...</td>\n",
       "      <td>1.0</td>\n",
       "      <td>1.0</td>\n",
       "      <td>0.0</td>\n",
       "      <td>0.0</td>\n",
       "      <td>0.0</td>\n",
       "      <td>0.0</td>\n",
       "      <td>0.0</td>\n",
       "      <td>0.0</td>\n",
       "      <td>0.0</td>\n",
       "      <td>1.0</td>\n",
       "    </tr>\n",
       "    <tr>\n",
       "      <th>4</th>\n",
       "      <td>154999</td>\n",
       "      <td>-0.997213</td>\n",
       "      <td>-0.885936</td>\n",
       "      <td>-0.935868</td>\n",
       "      <td>-0.010403</td>\n",
       "      <td>-0.984163</td>\n",
       "      <td>-1.264810</td>\n",
       "      <td>-1.429815</td>\n",
       "      <td>-0.273876</td>\n",
       "      <td>-0.529017</td>\n",
       "      <td>...</td>\n",
       "      <td>1.0</td>\n",
       "      <td>1.0</td>\n",
       "      <td>0.0</td>\n",
       "      <td>1.0</td>\n",
       "      <td>0.0</td>\n",
       "      <td>0.0</td>\n",
       "      <td>0.0</td>\n",
       "      <td>0.0</td>\n",
       "      <td>0.0</td>\n",
       "      <td>0.0</td>\n",
       "    </tr>\n",
       "  </tbody>\n",
       "</table>\n",
       "<p>5 rows × 32 columns</p>\n",
       "</div>"
      ],
      "text/plain": [
       "       id  num__accommodates  num__bedrooms  num__beds  num__price  \\\n",
       "0     360          -0.562715       0.152657  -0.192967   -0.931810   \n",
       "1     364          -0.562715      -0.885936  -0.935868    0.207151   \n",
       "2   31503          -0.997213      -0.885936  -0.935868   -0.765445   \n",
       "3   39405          -0.997213      -0.885936  -0.935868   -0.343133   \n",
       "4  154999          -0.997213      -0.885936  -0.935868   -0.010403   \n",
       "\n",
       "   num__availability_30  num__availability_60  num__availability_90  \\\n",
       "0             -0.551344              0.120505              0.449145   \n",
       "1              1.504547              1.454513              1.306215   \n",
       "2              0.314295              0.890125              0.943609   \n",
       "3             -0.334934             -0.905654             -0.374960   \n",
       "4             -0.984163             -1.264810             -1.429815   \n",
       "\n",
       "   num__availability_365  num__number_of_reviews  ...  \\\n",
       "0              -0.210263                1.146599  ...   \n",
       "1               1.467521                0.229000  ...   \n",
       "2               1.380054                0.947121  ...   \n",
       "3              -0.472665                6.013866  ...   \n",
       "4              -0.273876               -0.529017  ...   \n",
       "\n",
       "   bool__host_identity_verified_t  bool__has_availability_t  \\\n",
       "0                             1.0                       1.0   \n",
       "1                             1.0                       1.0   \n",
       "2                             1.0                       1.0   \n",
       "3                             1.0                       1.0   \n",
       "4                             1.0                       1.0   \n",
       "\n",
       "   bool__instant_bookable_t  bool__prop_type_reduced_Entire condo  \\\n",
       "0                       0.0                                   0.0   \n",
       "1                       0.0                                   0.0   \n",
       "2                       0.0                                   0.0   \n",
       "3                       0.0                                   0.0   \n",
       "4                       0.0                                   1.0   \n",
       "\n",
       "   bool__prop_type_reduced_Entire guest suite  \\\n",
       "0                                         0.0   \n",
       "1                                         0.0   \n",
       "2                                         1.0   \n",
       "3                                         0.0   \n",
       "4                                         0.0   \n",
       "\n",
       "   bool__prop_type_reduced_Entire guesthouse  \\\n",
       "0                                        1.0   \n",
       "1                                        0.0   \n",
       "2                                        0.0   \n",
       "3                                        0.0   \n",
       "4                                        0.0   \n",
       "\n",
       "   bool__prop_type_reduced_Entire home  \\\n",
       "0                                  0.0   \n",
       "1                                  0.0   \n",
       "2                                  0.0   \n",
       "3                                  0.0   \n",
       "4                                  0.0   \n",
       "\n",
       "   bool__prop_type_reduced_Entire rental unit  \\\n",
       "0                                         0.0   \n",
       "1                                         0.0   \n",
       "2                                         0.0   \n",
       "3                                         0.0   \n",
       "4                                         0.0   \n",
       "\n",
       "   bool__prop_type_reduced_Entire townhouse  bool__prop_type_reduced_Other  \n",
       "0                                       0.0                            0.0  \n",
       "1                                       0.0                            1.0  \n",
       "2                                       0.0                            0.0  \n",
       "3                                       0.0                            1.0  \n",
       "4                                       0.0                            0.0  \n",
       "\n",
       "[5 rows x 32 columns]"
      ]
     },
     "execution_count": 3,
     "metadata": {},
     "output_type": "execute_result"
    }
   ],
   "source": [
    "# read in CSV file to use for DataFrame\n",
    "denver_df = pd.read_csv(datafile)\n",
    "\n",
    "# Add a 'city' column\n",
    "#denver_df['city'] = 'Denver'\n",
    "\n",
    "# Check dataframe\n",
    "denver_df.head()"
   ]
  },
  {
   "cell_type": "code",
   "execution_count": 4,
   "metadata": {},
   "outputs": [
    {
     "name": "stdout",
     "output_type": "stream",
     "text": [
      "<class 'pandas.core.frame.DataFrame'>\n",
      "RangeIndex: 3565 entries, 0 to 3564\n",
      "Data columns (total 32 columns):\n",
      " #   Column                                      Non-Null Count  Dtype  \n",
      "---  ------                                      --------------  -----  \n",
      " 0   id                                          3565 non-null   int64  \n",
      " 1   num__accommodates                           3565 non-null   float64\n",
      " 2   num__bedrooms                               3565 non-null   float64\n",
      " 3   num__beds                                   3565 non-null   float64\n",
      " 4   num__price                                  3565 non-null   float64\n",
      " 5   num__availability_30                        3565 non-null   float64\n",
      " 6   num__availability_60                        3565 non-null   float64\n",
      " 7   num__availability_90                        3565 non-null   float64\n",
      " 8   num__availability_365                       3565 non-null   float64\n",
      " 9   num__number_of_reviews                      3565 non-null   float64\n",
      " 10  num__number_of_reviews_ltm                  3565 non-null   float64\n",
      " 11  num__number_of_reviews_l30d                 3565 non-null   float64\n",
      " 12  num__review_scores_rating                   3565 non-null   float64\n",
      " 13  num__review_scores_accuracy                 3565 non-null   float64\n",
      " 14  num__review_scores_cleanliness              3565 non-null   float64\n",
      " 15  num__review_scores_checkin                  3565 non-null   float64\n",
      " 16  num__review_scores_communication            3565 non-null   float64\n",
      " 17  num__review_scores_location                 3565 non-null   float64\n",
      " 18  num__review_scores_value                    3565 non-null   float64\n",
      " 19  num__reviews_per_month                      3565 non-null   float64\n",
      " 20  num__bath_number                            3565 non-null   float64\n",
      " 21  bool__host_has_profile_pic_t                3565 non-null   float64\n",
      " 22  bool__host_identity_verified_t              3565 non-null   float64\n",
      " 23  bool__has_availability_t                    3565 non-null   float64\n",
      " 24  bool__instant_bookable_t                    3565 non-null   float64\n",
      " 25  bool__prop_type_reduced_Entire condo        3565 non-null   float64\n",
      " 26  bool__prop_type_reduced_Entire guest suite  3565 non-null   float64\n",
      " 27  bool__prop_type_reduced_Entire guesthouse   3565 non-null   float64\n",
      " 28  bool__prop_type_reduced_Entire home         3565 non-null   float64\n",
      " 29  bool__prop_type_reduced_Entire rental unit  3565 non-null   float64\n",
      " 30  bool__prop_type_reduced_Entire townhouse    3565 non-null   float64\n",
      " 31  bool__prop_type_reduced_Other               3565 non-null   float64\n",
      "dtypes: float64(31), int64(1)\n",
      "memory usage: 891.4 KB\n"
     ]
    }
   ],
   "source": [
    "denver_df.info()"
   ]
  },
  {
   "cell_type": "code",
   "execution_count": 7,
   "metadata": {},
   "outputs": [
    {
     "data": {
      "text/plain": [
       "<Axes: xlabel='num__price', ylabel='num__review_scores_rating'>"
      ]
     },
     "execution_count": 7,
     "metadata": {},
     "output_type": "execute_result"
    },
    {
     "data": {
      "image/png": "[encoded data removed]",
      "text/plain": [
       "<Figure size 640x480 with 1 Axes>"
      ]
     },
     "metadata": {},
     "output_type": "display_data"
    }
   ],
   "source": [
    "#visualize a scatter plot of data comparing price to  review_scores_rating\n",
    "denver_df.plot.scatter(x= \"num__price\",\n",
    "                       y=\"num__review_scores_rating\")"
   ]
  },
  {
   "cell_type": "code",
   "execution_count": 8,
   "metadata": {},
   "outputs": [
    {
     "data": {
      "text/html": [
       "<style>#sk-container-id-1 {color: black;}#sk-container-id-1 pre{padding: 0;}#sk-container-id-1 div.sk-toggleable {background-color: white;}#sk-container-id-1 label.sk-toggleable__label {cursor: pointer;display: block;width: 100%;margin-bottom: 0;padding: 0.3em;box-sizing: border-box;text-align: center;}#sk-container-id-1 label.sk-toggleable__label-arrow:before {content: \"▸\";float: left;margin-right: 0.25em;color: #696969;}#sk-container-id-1 label.sk-toggleable__label-arrow:hover:before {color: black;}#sk-container-id-1 div.sk-estimator:hover label.sk-toggleable__label-arrow:before {color: black;}#sk-container-id-1 div.sk-toggleable__content {max-height: 0;max-width: 0;overflow: hidden;text-align: left;background-color: #f0f8ff;}#sk-container-id-1 div.sk-toggleable__content pre {margin: 0.2em;color: black;border-radius: 0.25em;background-color: #f0f8ff;}#sk-container-id-1 input.sk-toggleable__control:checked~div.sk-toggleable__content {max-height: 200px;max-width: 100%;overflow: auto;}#sk-container-id-1 input.sk-toggleable__control:checked~label.sk-toggleable__label-arrow:before {content: \"▾\";}#sk-container-id-1 div.sk-estimator input.sk-toggleable__control:checked~label.sk-toggleable__label {background-color: #d4ebff;}#sk-container-id-1 div.sk-label input.sk-toggleable__control:checked~label.sk-toggleable__label {background-color: #d4ebff;}#sk-container-id-1 input.sk-hidden--visually {border: 0;clip: rect(1px 1px 1px 1px);clip: rect(1px, 1px, 1px, 1px);height: 1px;margin: -1px;overflow: hidden;padding: 0;position: absolute;width: 1px;}#sk-container-id-1 div.sk-estimator {font-family: monospace;background-color: #f0f8ff;border: 1px dotted black;border-radius: 0.25em;box-sizing: border-box;margin-bottom: 0.5em;}#sk-container-id-1 div.sk-estimator:hover {background-color: #d4ebff;}#sk-container-id-1 div.sk-parallel-item::after {content: \"\";width: 100%;border-bottom: 1px solid gray;flex-grow: 1;}#sk-container-id-1 div.sk-label:hover label.sk-toggleable__label {background-color: #d4ebff;}#sk-container-id-1 div.sk-serial::before {content: \"\";position: absolute;border-left: 1px solid gray;box-sizing: border-box;top: 0;bottom: 0;left: 50%;z-index: 0;}#sk-container-id-1 div.sk-serial {display: flex;flex-direction: column;align-items: center;background-color: white;padding-right: 0.2em;padding-left: 0.2em;position: relative;}#sk-container-id-1 div.sk-item {position: relative;z-index: 1;}#sk-container-id-1 div.sk-parallel {display: flex;align-items: stretch;justify-content: center;background-color: white;position: relative;}#sk-container-id-1 div.sk-item::before, #sk-container-id-1 div.sk-parallel-item::before {content: \"\";position: absolute;border-left: 1px solid gray;box-sizing: border-box;top: 0;bottom: 0;left: 50%;z-index: -1;}#sk-container-id-1 div.sk-parallel-item {display: flex;flex-direction: column;z-index: 1;position: relative;background-color: white;}#sk-container-id-1 div.sk-parallel-item:first-child::after {align-self: flex-end;width: 50%;}#sk-container-id-1 div.sk-parallel-item:last-child::after {align-self: flex-start;width: 50%;}#sk-container-id-1 div.sk-parallel-item:only-child::after {width: 0;}#sk-container-id-1 div.sk-dashed-wrapped {border: 1px dashed gray;margin: 0 0.4em 0.5em 0.4em;box-sizing: border-box;padding-bottom: 0.4em;background-color: white;}#sk-container-id-1 div.sk-label label {font-family: monospace;font-weight: bold;display: inline-block;line-height: 1.2em;}#sk-container-id-1 div.sk-label-container {text-align: center;}#sk-container-id-1 div.sk-container {/* jupyter's `normalize.less` sets `[hidden] { display: none; }` but bootstrap.min.css set `[hidden] { display: none !important; }` so we also need the `!important` here to be able to override the default hidden behavior on the sphinx rendered scikit-learn.org. See: https://github.com/scikit-learn/scikit-learn/issues/21755 */display: inline-block !important;position: relative;}#sk-container-id-1 div.sk-text-repr-fallback {display: none;}</style><div id=\"sk-container-id-1\" class=\"sk-top-container\"><div class=\"sk-text-repr-fallback\"><pre>KMeans(n_clusters=5, n_init=&#x27;auto&#x27;, random_state=1)</pre><b>In a Jupyter environment, please rerun this cell to show the HTML representation or trust the notebook. <br />On GitHub, the HTML representation is unable to render, please try loading this page with nbviewer.org.</b></div><div class=\"sk-container\" hidden><div class=\"sk-item\"><div class=\"sk-estimator sk-toggleable\"><input class=\"sk-toggleable__control sk-hidden--visually\" id=\"sk-estimator-id-1\" type=\"checkbox\" checked><label for=\"sk-estimator-id-1\" class=\"sk-toggleable__label sk-toggleable__label-arrow\">KMeans</label><div class=\"sk-toggleable__content\"><pre>KMeans(n_clusters=5, n_init=&#x27;auto&#x27;, random_state=1)</pre></div></div></div></div></div>"
      ],
      "text/plain": [
       "KMeans(n_clusters=5, n_init='auto', random_state=1)"
      ]
     },
     "execution_count": 8,
     "metadata": {},
     "output_type": "execute_result"
    }
   ],
   "source": [
    "#Run K-means model\n",
    "model = KMeans(n_clusters=5, n_init=\"auto\", random_state=1)\n",
    "#print model\n",
    "model"
   ]
  },
  {
   "cell_type": "code",
   "execution_count": 9,
   "metadata": {},
   "outputs": [
    {
     "data": {
      "text/html": [
       "<style>#sk-container-id-2 {color: black;}#sk-container-id-2 pre{padding: 0;}#sk-container-id-2 div.sk-toggleable {background-color: white;}#sk-container-id-2 label.sk-toggleable__label {cursor: pointer;display: block;width: 100%;margin-bottom: 0;padding: 0.3em;box-sizing: border-box;text-align: center;}#sk-container-id-2 label.sk-toggleable__label-arrow:before {content: \"▸\";float: left;margin-right: 0.25em;color: #696969;}#sk-container-id-2 label.sk-toggleable__label-arrow:hover:before {color: black;}#sk-container-id-2 div.sk-estimator:hover label.sk-toggleable__label-arrow:before {color: black;}#sk-container-id-2 div.sk-toggleable__content {max-height: 0;max-width: 0;overflow: hidden;text-align: left;background-color: #f0f8ff;}#sk-container-id-2 div.sk-toggleable__content pre {margin: 0.2em;color: black;border-radius: 0.25em;background-color: #f0f8ff;}#sk-container-id-2 input.sk-toggleable__control:checked~div.sk-toggleable__content {max-height: 200px;max-width: 100%;overflow: auto;}#sk-container-id-2 input.sk-toggleable__control:checked~label.sk-toggleable__label-arrow:before {content: \"▾\";}#sk-container-id-2 div.sk-estimator input.sk-toggleable__control:checked~label.sk-toggleable__label {background-color: #d4ebff;}#sk-container-id-2 div.sk-label input.sk-toggleable__control:checked~label.sk-toggleable__label {background-color: #d4ebff;}#sk-container-id-2 input.sk-hidden--visually {border: 0;clip: rect(1px 1px 1px 1px);clip: rect(1px, 1px, 1px, 1px);height: 1px;margin: -1px;overflow: hidden;padding: 0;position: absolute;width: 1px;}#sk-container-id-2 div.sk-estimator {font-family: monospace;background-color: #f0f8ff;border: 1px dotted black;border-radius: 0.25em;box-sizing: border-box;margin-bottom: 0.5em;}#sk-container-id-2 div.sk-estimator:hover {background-color: #d4ebff;}#sk-container-id-2 div.sk-parallel-item::after {content: \"\";width: 100%;border-bottom: 1px solid gray;flex-grow: 1;}#sk-container-id-2 div.sk-label:hover label.sk-toggleable__label {background-color: #d4ebff;}#sk-container-id-2 div.sk-serial::before {content: \"\";position: absolute;border-left: 1px solid gray;box-sizing: border-box;top: 0;bottom: 0;left: 50%;z-index: 0;}#sk-container-id-2 div.sk-serial {display: flex;flex-direction: column;align-items: center;background-color: white;padding-right: 0.2em;padding-left: 0.2em;position: relative;}#sk-container-id-2 div.sk-item {position: relative;z-index: 1;}#sk-container-id-2 div.sk-parallel {display: flex;align-items: stretch;justify-content: center;background-color: white;position: relative;}#sk-container-id-2 div.sk-item::before, #sk-container-id-2 div.sk-parallel-item::before {content: \"\";position: absolute;border-left: 1px solid gray;box-sizing: border-box;top: 0;bottom: 0;left: 50%;z-index: -1;}#sk-container-id-2 div.sk-parallel-item {display: flex;flex-direction: column;z-index: 1;position: relative;background-color: white;}#sk-container-id-2 div.sk-parallel-item:first-child::after {align-self: flex-end;width: 50%;}#sk-container-id-2 div.sk-parallel-item:last-child::after {align-self: flex-start;width: 50%;}#sk-container-id-2 div.sk-parallel-item:only-child::after {width: 0;}#sk-container-id-2 div.sk-dashed-wrapped {border: 1px dashed gray;margin: 0 0.4em 0.5em 0.4em;box-sizing: border-box;padding-bottom: 0.4em;background-color: white;}#sk-container-id-2 div.sk-label label {font-family: monospace;font-weight: bold;display: inline-block;line-height: 1.2em;}#sk-container-id-2 div.sk-label-container {text-align: center;}#sk-container-id-2 div.sk-container {/* jupyter's `normalize.less` sets `[hidden] { display: none; }` but bootstrap.min.css set `[hidden] { display: none !important; }` so we also need the `!important` here to be able to override the default hidden behavior on the sphinx rendered scikit-learn.org. See: https://github.com/scikit-learn/scikit-learn/issues/21755 */display: inline-block !important;position: relative;}#sk-container-id-2 div.sk-text-repr-fallback {display: none;}</style><div id=\"sk-container-id-2\" class=\"sk-top-container\"><div class=\"sk-text-repr-fallback\"><pre>KMeans(n_clusters=5, n_init=&#x27;auto&#x27;, random_state=1)</pre><b>In a Jupyter environment, please rerun this cell to show the HTML representation or trust the notebook. <br />On GitHub, the HTML representation is unable to render, please try loading this page with nbviewer.org.</b></div><div class=\"sk-container\" hidden><div class=\"sk-item\"><div class=\"sk-estimator sk-toggleable\"><input class=\"sk-toggleable__control sk-hidden--visually\" id=\"sk-estimator-id-2\" type=\"checkbox\" checked><label for=\"sk-estimator-id-2\" class=\"sk-toggleable__label sk-toggleable__label-arrow\">KMeans</label><div class=\"sk-toggleable__content\"><pre>KMeans(n_clusters=5, n_init=&#x27;auto&#x27;, random_state=1)</pre></div></div></div></div></div>"
      ],
      "text/plain": [
       "KMeans(n_clusters=5, n_init='auto', random_state=1)"
      ]
     },
     "execution_count": 9,
     "metadata": {},
     "output_type": "execute_result"
    }
   ],
   "source": [
    "#fit the data to the model\n",
    "model.fit(denver_df)\n"
   ]
  },
  {
   "cell_type": "code",
   "execution_count": 10,
   "metadata": {},
   "outputs": [
    {
     "name": "stdout",
     "output_type": "stream",
     "text": [
      "[0 0 0 ... 3 3 3]\n"
     ]
    }
   ],
   "source": [
    "#make predictions\n",
    "prediction = model.predict(denver_df)\n",
    "\n",
    "#print predictions\n",
    "print(prediction)"
   ]
  },
  {
   "cell_type": "code",
   "execution_count": 11,
   "metadata": {},
   "outputs": [
    {
     "data": {
      "text/html": [
       "<div>\n",
       "<style scoped>\n",
       "    .dataframe tbody tr th:only-of-type {\n",
       "        vertical-align: middle;\n",
       "    }\n",
       "\n",
       "    .dataframe tbody tr th {\n",
       "        vertical-align: top;\n",
       "    }\n",
       "\n",
       "    .dataframe thead th {\n",
       "        text-align: right;\n",
       "    }\n",
       "</style>\n",
       "<table border=\"1\" class=\"dataframe\">\n",
       "  <thead>\n",
       "    <tr style=\"text-align: right;\">\n",
       "      <th></th>\n",
       "      <th>id</th>\n",
       "      <th>num__accommodates</th>\n",
       "      <th>num__bedrooms</th>\n",
       "      <th>num__beds</th>\n",
       "      <th>num__price</th>\n",
       "      <th>num__availability_30</th>\n",
       "      <th>num__availability_60</th>\n",
       "      <th>num__availability_90</th>\n",
       "      <th>num__availability_365</th>\n",
       "      <th>num__number_of_reviews</th>\n",
       "      <th>...</th>\n",
       "      <th>bool__has_availability_t</th>\n",
       "      <th>bool__instant_bookable_t</th>\n",
       "      <th>bool__prop_type_reduced_Entire condo</th>\n",
       "      <th>bool__prop_type_reduced_Entire guest suite</th>\n",
       "      <th>bool__prop_type_reduced_Entire guesthouse</th>\n",
       "      <th>bool__prop_type_reduced_Entire home</th>\n",
       "      <th>bool__prop_type_reduced_Entire rental unit</th>\n",
       "      <th>bool__prop_type_reduced_Entire townhouse</th>\n",
       "      <th>bool__prop_type_reduced_Other</th>\n",
       "      <th>prediction</th>\n",
       "    </tr>\n",
       "  </thead>\n",
       "  <tbody>\n",
       "    <tr>\n",
       "      <th>0</th>\n",
       "      <td>360</td>\n",
       "      <td>-0.562715</td>\n",
       "      <td>0.152657</td>\n",
       "      <td>-0.192967</td>\n",
       "      <td>-0.931810</td>\n",
       "      <td>-0.551344</td>\n",
       "      <td>0.120505</td>\n",
       "      <td>0.449145</td>\n",
       "      <td>-0.210263</td>\n",
       "      <td>1.146599</td>\n",
       "      <td>...</td>\n",
       "      <td>1.0</td>\n",
       "      <td>0.0</td>\n",
       "      <td>0.0</td>\n",
       "      <td>0.0</td>\n",
       "      <td>1.0</td>\n",
       "      <td>0.0</td>\n",
       "      <td>0.0</td>\n",
       "      <td>0.0</td>\n",
       "      <td>0.0</td>\n",
       "      <td>0</td>\n",
       "    </tr>\n",
       "    <tr>\n",
       "      <th>1</th>\n",
       "      <td>364</td>\n",
       "      <td>-0.562715</td>\n",
       "      <td>-0.885936</td>\n",
       "      <td>-0.935868</td>\n",
       "      <td>0.207151</td>\n",
       "      <td>1.504547</td>\n",
       "      <td>1.454513</td>\n",
       "      <td>1.306215</td>\n",
       "      <td>1.467521</td>\n",
       "      <td>0.229000</td>\n",
       "      <td>...</td>\n",
       "      <td>1.0</td>\n",
       "      <td>0.0</td>\n",
       "      <td>0.0</td>\n",
       "      <td>0.0</td>\n",
       "      <td>0.0</td>\n",
       "      <td>0.0</td>\n",
       "      <td>0.0</td>\n",
       "      <td>0.0</td>\n",
       "      <td>1.0</td>\n",
       "      <td>0</td>\n",
       "    </tr>\n",
       "    <tr>\n",
       "      <th>2</th>\n",
       "      <td>31503</td>\n",
       "      <td>-0.997213</td>\n",
       "      <td>-0.885936</td>\n",
       "      <td>-0.935868</td>\n",
       "      <td>-0.765445</td>\n",
       "      <td>0.314295</td>\n",
       "      <td>0.890125</td>\n",
       "      <td>0.943609</td>\n",
       "      <td>1.380054</td>\n",
       "      <td>0.947121</td>\n",
       "      <td>...</td>\n",
       "      <td>1.0</td>\n",
       "      <td>0.0</td>\n",
       "      <td>0.0</td>\n",
       "      <td>1.0</td>\n",
       "      <td>0.0</td>\n",
       "      <td>0.0</td>\n",
       "      <td>0.0</td>\n",
       "      <td>0.0</td>\n",
       "      <td>0.0</td>\n",
       "      <td>0</td>\n",
       "    </tr>\n",
       "    <tr>\n",
       "      <th>3</th>\n",
       "      <td>39405</td>\n",
       "      <td>-0.997213</td>\n",
       "      <td>-0.885936</td>\n",
       "      <td>-0.935868</td>\n",
       "      <td>-0.343133</td>\n",
       "      <td>-0.334934</td>\n",
       "      <td>-0.905654</td>\n",
       "      <td>-0.374960</td>\n",
       "      <td>-0.472665</td>\n",
       "      <td>6.013866</td>\n",
       "      <td>...</td>\n",
       "      <td>1.0</td>\n",
       "      <td>0.0</td>\n",
       "      <td>0.0</td>\n",
       "      <td>0.0</td>\n",
       "      <td>0.0</td>\n",
       "      <td>0.0</td>\n",
       "      <td>0.0</td>\n",
       "      <td>0.0</td>\n",
       "      <td>1.0</td>\n",
       "      <td>0</td>\n",
       "    </tr>\n",
       "    <tr>\n",
       "      <th>4</th>\n",
       "      <td>154999</td>\n",
       "      <td>-0.997213</td>\n",
       "      <td>-0.885936</td>\n",
       "      <td>-0.935868</td>\n",
       "      <td>-0.010403</td>\n",
       "      <td>-0.984163</td>\n",
       "      <td>-1.264810</td>\n",
       "      <td>-1.429815</td>\n",
       "      <td>-0.273876</td>\n",
       "      <td>-0.529017</td>\n",
       "      <td>...</td>\n",
       "      <td>1.0</td>\n",
       "      <td>0.0</td>\n",
       "      <td>1.0</td>\n",
       "      <td>0.0</td>\n",
       "      <td>0.0</td>\n",
       "      <td>0.0</td>\n",
       "      <td>0.0</td>\n",
       "      <td>0.0</td>\n",
       "      <td>0.0</td>\n",
       "      <td>0</td>\n",
       "    </tr>\n",
       "  </tbody>\n",
       "</table>\n",
       "<p>5 rows × 33 columns</p>\n",
       "</div>"
      ],
      "text/plain": [
       "       id  num__accommodates  num__bedrooms  num__beds  num__price  \\\n",
       "0     360          -0.562715       0.152657  -0.192967   -0.931810   \n",
       "1     364          -0.562715      -0.885936  -0.935868    0.207151   \n",
       "2   31503          -0.997213      -0.885936  -0.935868   -0.765445   \n",
       "3   39405          -0.997213      -0.885936  -0.935868   -0.343133   \n",
       "4  154999          -0.997213      -0.885936  -0.935868   -0.010403   \n",
       "\n",
       "   num__availability_30  num__availability_60  num__availability_90  \\\n",
       "0             -0.551344              0.120505              0.449145   \n",
       "1              1.504547              1.454513              1.306215   \n",
       "2              0.314295              0.890125              0.943609   \n",
       "3             -0.334934             -0.905654             -0.374960   \n",
       "4             -0.984163             -1.264810             -1.429815   \n",
       "\n",
       "   num__availability_365  num__number_of_reviews  ...  \\\n",
       "0              -0.210263                1.146599  ...   \n",
       "1               1.467521                0.229000  ...   \n",
       "2               1.380054                0.947121  ...   \n",
       "3              -0.472665                6.013866  ...   \n",
       "4              -0.273876               -0.529017  ...   \n",
       "\n",
       "   bool__has_availability_t  bool__instant_bookable_t  \\\n",
       "0                       1.0                       0.0   \n",
       "1                       1.0                       0.0   \n",
       "2                       1.0                       0.0   \n",
       "3                       1.0                       0.0   \n",
       "4                       1.0                       0.0   \n",
       "\n",
       "   bool__prop_type_reduced_Entire condo  \\\n",
       "0                                   0.0   \n",
       "1                                   0.0   \n",
       "2                                   0.0   \n",
       "3                                   0.0   \n",
       "4                                   1.0   \n",
       "\n",
       "   bool__prop_type_reduced_Entire guest suite  \\\n",
       "0                                         0.0   \n",
       "1                                         0.0   \n",
       "2                                         1.0   \n",
       "3                                         0.0   \n",
       "4                                         0.0   \n",
       "\n",
       "   bool__prop_type_reduced_Entire guesthouse  \\\n",
       "0                                        1.0   \n",
       "1                                        0.0   \n",
       "2                                        0.0   \n",
       "3                                        0.0   \n",
       "4                                        0.0   \n",
       "\n",
       "   bool__prop_type_reduced_Entire home  \\\n",
       "0                                  0.0   \n",
       "1                                  0.0   \n",
       "2                                  0.0   \n",
       "3                                  0.0   \n",
       "4                                  0.0   \n",
       "\n",
       "   bool__prop_type_reduced_Entire rental unit  \\\n",
       "0                                         0.0   \n",
       "1                                         0.0   \n",
       "2                                         0.0   \n",
       "3                                         0.0   \n",
       "4                                         0.0   \n",
       "\n",
       "   bool__prop_type_reduced_Entire townhouse  bool__prop_type_reduced_Other  \\\n",
       "0                                       0.0                            0.0   \n",
       "1                                       0.0                            1.0   \n",
       "2                                       0.0                            0.0   \n",
       "3                                       0.0                            1.0   \n",
       "4                                       0.0                            0.0   \n",
       "\n",
       "   prediction  \n",
       "0           0  \n",
       "1           0  \n",
       "2           0  \n",
       "3           0  \n",
       "4           0  \n",
       "\n",
       "[5 rows x 33 columns]"
      ]
     },
     "execution_count": 11,
     "metadata": {},
     "output_type": "execute_result"
    }
   ],
   "source": [
    "#copy of dataframe\n",
    "denver_df_predictions = denver_df.copy()\n",
    "#add a column to df to contain prediction  \n",
    "denver_df_predictions[\"prediction\"] = prediction\n",
    "#review dataframe\n",
    "denver_df_predictions.head()"
   ]
  },
  {
   "cell_type": "code",
   "execution_count": 12,
   "metadata": {},
   "outputs": [],
   "source": [
    "#write to csv, to determine the grouping definition\n",
    "denver_df_predictions.to_csv(\"test.csv\",index=False)"
   ]
  },
  {
   "cell_type": "code",
   "execution_count": 13,
   "metadata": {},
   "outputs": [
    {
     "data": {
      "text/plain": [
       "<Axes: xlabel='num__price', ylabel='num__review_scores_rating'>"
      ]
     },
     "execution_count": 13,
     "metadata": {},
     "output_type": "execute_result"
    },
    {
     "data": {
      "image/png": "[encoded data removed]",
      "text/plain": [
       "<Figure size 640x480 with 2 Axes>"
      ]
     },
     "metadata": {},
     "output_type": "display_data"
    }
   ],
   "source": [
    "#plot the data points based on prediction\n",
    "denver_df_predictions.plot.scatter(\n",
    "    x= \"num__price\",\n",
    "    y= \"num__review_scores_rating\",\n",
    "    c= \"prediction\",\n",
    "    colormap = \"winter\")\n"
   ]
  },
  {
   "cell_type": "code",
   "execution_count": null,
   "metadata": {},
   "outputs": [],
   "source": [
    "####### play around with clustering values and x and y"
   ]
  },
  {
   "cell_type": "code",
   "execution_count": null,
   "metadata": {},
   "outputs": [],
   "source": [
    "### reducing dimensionality using PCA with denver_df\n"
   ]
  },
  {
   "cell_type": "markdown",
   "metadata": {},
   "source": [
    "Starting the classification code: going to run k-means and PCA but should I run others?  Will update this box as I decide."
   ]
  },
  {
   "cell_type": "code",
   "execution_count": null,
   "metadata": {},
   "outputs": [],
   "source": [
    "# Calculate the PCA explained variance ratio\n",
    "explained_variance_ratio = pca.explained_variance_ratio_\n",
    "\n",
    "# Display or use explained_variance_ratio as needed\n",
    "print(explained_variance_ratio)"
   ]
  },
  {
   "cell_type": "code",
   "execution_count": null,
   "metadata": {},
   "outputs": [],
   "source": [
    "# summing the explained variance \n",
    "explained_denver = explained_variance_ratio.sum()\n",
    "\n",
    "# Display \n",
    "print(explained_denver)"
   ]
  },
  {
   "cell_type": "markdown",
   "metadata": {},
   "source": [
    "So with 26 different components we can explain 99.9999% of the variance but now to reduce to something manageable  "
   ]
  },
  {
   "cell_type": "code",
   "execution_count": null,
   "metadata": {},
   "outputs": [],
   "source": [
    "# just looking at the data to make certain I have it all\n",
    "df_pca_result.tail()"
   ]
  },
  {
   "cell_type": "code",
   "execution_count": null,
   "metadata": {},
   "outputs": [],
   "source": [
    "# Create the denver PCA DataFrame as a seperate view\n",
    "denver_pca_df = pd.DataFrame(\n",
    "    df_pca_result,\n",
    "    columns=[\"PC1\", \"PC2\", \"PC3\", \"PC4\", \"PC5\", \"PC6\", \"PC7\", \"PC8\", \"PC9\", \"PC10\", \"PC11\", \"PC12\",\n",
    "             \"PC13\", \"PC14\", \"PC15\", \"PC16\", \"PC17\", \"PC18\", \"PC19\", \"PC20\", \"PC21\", \"PC22\", \"PC23\", \"PC24\",\n",
    "             \"PC25\", \"PC26\"])\n",
    "\n",
    "# Review the PCA DataFrame\n",
    "denver_pca_df.tail()"
   ]
  },
  {
   "cell_type": "code",
   "execution_count": null,
   "metadata": {},
   "outputs": [],
   "source": [
    "# darn null values just don't work with unsupervised learning deleting them\n",
    "denver_pca_no_null = df_pca_result.dropna()\n"
   ]
  },
  {
   "cell_type": "code",
   "execution_count": null,
   "metadata": {},
   "outputs": [],
   "source": [
    "# Check for missing values \n",
    "missing_values = denver_pca_no_null.isnull().sum()\n",
    "\n",
    "# Print the columns with missing values\n",
    "print(missing_values[missing_values > 0])"
   ]
  },
  {
   "cell_type": "code",
   "execution_count": null,
   "metadata": {},
   "outputs": [],
   "source": [
    "# Create a a list to store inertia values and the values of k\n",
    "inertia = []\n",
    "k = list(range(1, 26))\n",
    "\n",
    "# Create a for-loop where each value of k is evaluated using the K-means algorithm\n",
    "# Fit the model using the service_ratings DataFrame\n",
    "# Append the value of the computed inertia from the `inertia_` attribute of the KMeans model instance\n",
    "for i in k:\n",
    "    k_model = KMeans(n_clusters=i, n_init='auto', random_state=0)\n",
    "    k_model.fit(denver_pca_no_null)\n",
    "    inertia.append(k_model.inertia_)\n",
    "\n",
    "# Define a DataFrame to hold the values for k and the corresponding inertia\n",
    "elbow_data = {\"k\": k, \"inertia\": inertia}\n",
    "\n",
    "# Create the DataFrame from the elbow data\n",
    "df_elbow = pd.DataFrame(elbow_data)\n",
    "\n",
    "# Review the DataFrame\n",
    "df_elbow.head(26)"
   ]
  },
  {
   "cell_type": "code",
   "execution_count": null,
   "metadata": {},
   "outputs": [],
   "source": [
    " # Plotting my inertia and k\n",
    "df_elbow.plot.line(\n",
    "    x=\"k\", \n",
    "    y=\"inertia\", \n",
    "    title=\"Elbow Curve\", \n",
    "    xticks=k\n",
    ")"
   ]
  },
  {
   "cell_type": "code",
   "execution_count": null,
   "metadata": {},
   "outputs": [],
   "source": [
    "# Define the model Kmeans model... which sucks because it could be 10 or 14\n",
    "model = KMeans(n_clusters=10, n_init='auto', random_state=0)\n",
    "\n",
    "# Fit the model\n",
    "model.fit(denver_pca_no_null)\n",
    "\n",
    "# Make predictions\n",
    "k_10 = model.predict(denver_pca_no_null)\n",
    "\n",
    "# Create a copy of the customers_pca_df DataFrame\n",
    "denver_pca_predictions_df_10 = denver_pca_no_null.copy()\n",
    "\n",
    "# Add a class column with the labels\n",
    "denver_pca_predictions_df_10[\"customer_segments\"] = k_10"
   ]
  },
  {
   "cell_type": "code",
   "execution_count": null,
   "metadata": {},
   "outputs": [],
   "source": [
    "# Plot the clusters\n",
    "denver_pca_predictions_df_10.plot.scatter(\n",
    "    x=\"PC1\",\n",
    "    y=\"PC2\",\n",
    "    c=\"customer_segments\",\n",
    "    colormap='winter')"
   ]
  },
  {
   "cell_type": "code",
   "execution_count": null,
   "metadata": {},
   "outputs": [],
   "source": [
    "# Define the model Kmeans model... hold to try more\n",
    "model = KMeans(n_clusters=7, n_init='auto', random_state=0)\n",
    "\n",
    "# Fit the model\n",
    "model.fit(denver_pca_no_null)\n",
    "\n",
    "# Make predictionsy others\n",
    "k_7 = model.predict(denver_pca_no_null)\n",
    "\n",
    "# Create a copy of the customers_pca_df DataFrame\n",
    "denver_pca_predictions_df_7 = denver_pca_no_null.copy()\n",
    "\n",
    "# Add a class column with the labels\n",
    "denver_pca_predictions_df_7[\"customer_segments\"] = k_7"
   ]
  },
  {
   "cell_type": "code",
   "execution_count": null,
   "metadata": {},
   "outputs": [],
   "source": [
    "# hold to try more\n",
    "denver_pca_predictions_df_7.plot.scatter(\n",
    "    x=\"PC1\",\n",
    "    y=\"PC2\",\n",
    "    c=\"customer_segments\",\n",
    "    colormap='winter')\n",
    "\n",
    "# note I don't like this one"
   ]
  },
  {
   "cell_type": "code",
   "execution_count": null,
   "metadata": {},
   "outputs": [],
   "source": [
    "# Plot the clusters using price and if it is available 30 days out - I should probably work on this more \n",
    "denver_pca_predictions_df_10.plot.scatter(\n",
    "    x=\"num__price\",\n",
    "    y=\"num__beds\",\n",
    "    c=\"customer_segments\",\n",
    "    colormap='winter')"
   ]
  },
  {
   "cell_type": "code",
   "execution_count": null,
   "metadata": {},
   "outputs": [],
   "source": [
    "# looking at what weight more \n",
    "pca_component_weights = pd.DataFrame(pca.components_.T, columns=[\n",
    "    \"num__accommodates\", \"num__bedrooms\", \"num__beds\", \"num__price\", \"num__availability_30\", \"num__availability_60\",\n",
    "    \"num__availability_90\", \"num__availability_365\", \"num__number_of_reviews\", \"num__number_of_reviews_ltm\",\n",
    "    \"num__number_of_reviews_l30d\", \"num__review_scores_rating\", \"num__review_scores_accuracy\",\n",
    "    \"num__review_scores_cleanliness\", \"num__review_scores_checkin\", \"num__review_scores_communication\",\n",
    "    \"num__review_scores_location\", \"num__review_scores_value\", \"num__reviews_per_month\",\n",
    "    \"bool__host_is_superhost_f\", \"bool__host_is_superhost_t\", \"bool__host_is_superhost_nan\",\n",
    "    \"bool__host_has_profile_pic_t\", \"bool__host_identity_verified_t\", \"bool__has_availability_t\",\n",
    "    \"bool__instant_bookable_t\", \"PC1\", \"PC2\", \"PC3\", \"PC4\", \"PC5\", \"PC6\", \"PC7\", \"PC8\", \"PC9\", \"PC10\", \"PC11\", \"PC12\",\n",
    "    \"PC13\", \"PC14\", \"PC15\", \"PC16\", \"PC17\", \"PC18\", \"PC19\", \"PC20\", \"PC21\", \"PC22\", \"PC23\", \"PC24\", \"PC25\", \"PC26\"], index=denver_pca_no_null.columns)\n",
    "pca_component_weights"
   ]
  }
 ],
 "metadata": {
  "kernelspec": {
   "display_name": "base",
   "language": "python",
   "name": "python3"
  },
  "language_info": {
   "codemirror_mode": {
    "name": "ipython",
    "version": 3
   },
   "file_extension": ".py",
   "mimetype": "text/x-python",
   "name": "python",
   "nbconvert_exporter": "python",
   "pygments_lexer": "ipython3",
   "version": "3.11.5"
  }
 },
 "nbformat": 4,
 "nbformat_minor": 2
}
